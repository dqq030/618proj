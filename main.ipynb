{
 "cells": [
  {
   "cell_type": "markdown",
   "metadata": {},
   "source": [
    "# SI618 Project\n",
    "### Analyzing the Impact of Various Factors on B&B Visitor's Reviews \n",
    "#### — A study based on Airbnb datasets\n",
    "\n",
    "Team members: Qian Dong (dqq) section 001; Yujun Zhang (yukiz) section 001; Yinuo Wei (seesaway) section 001\n"
   ]
  },
  {
   "cell_type": "code",
   "execution_count": null,
   "metadata": {},
   "outputs": [],
   "source": [
    "import pandas as pd\n",
    "import numpy as np\n",
    "import matplotlib.pyplot as plt\n",
    "import seaborn as sns\n",
    "import folium\n",
    "from folium.plugins import HeatMap"
   ]
  },
  {
   "cell_type": "markdown",
   "metadata": {},
   "source": [
    "### Cleaning and manipulation\n",
    "1. Primary dataset description:\n",
    "\n",
    "This dataset contains essential details enabling an in-depth analysis of hosts, geographical availability, and key metrics required for predictions and drawing meaningful conclusions. It contains information about the name, host, location, room type, number of reviews, and the price of the house."
   ]
  },
  {
   "cell_type": "code",
   "execution_count": null,
   "metadata": {},
   "outputs": [],
   "source": [
    "ab=pd.read_csv('data/AB_NYC_2019.csv')"
   ]
  },
  {
   "cell_type": "code",
   "execution_count": null,
   "metadata": {},
   "outputs": [],
   "source": [
    "ab.head()"
   ]
  },
  {
   "cell_type": "code",
   "execution_count": null,
   "metadata": {},
   "outputs": [],
   "source": [
    "ab.shape"
   ]
  },
  {
   "cell_type": "code",
   "execution_count": null,
   "metadata": {},
   "outputs": [],
   "source": [
    "ab.columns"
   ]
  },
  {
   "cell_type": "code",
   "execution_count": null,
   "metadata": {},
   "outputs": [],
   "source": [
    "ab.describe()"
   ]
  },
  {
   "cell_type": "code",
   "execution_count": null,
   "metadata": {},
   "outputs": [],
   "source": [
    "ab.select_dtypes(exclude=['object'])\\\n",
    "    .plot(kind='box', subplots=True, layout=(3,4), figsize=(14,14), fontsize=14)\n",
    "plt.title('Box Plot for each input variable')\n",
    "plt.show()"
   ]
  },
  {
   "cell_type": "markdown",
   "metadata": {},
   "source": [
    "From the summary of the table, there are some outliers of prices, so in the consideration of the plot layout, the price data is limited to those less than 2,000."
   ]
  },
  {
   "cell_type": "code",
   "execution_count": null,
   "metadata": {},
   "outputs": [],
   "source": [
    "price_data = ab[ab.price < 2000].loc[:, ['id', 'price']]\n",
    "\n",
    "plt.figure(figsize=(10, 6))\n",
    "plt.hist(price_data.price, bins=50, ec='black')\n",
    "plt.xlabel('Price')\n",
    "plt.ylabel('Quantity')\n",
    "plt.title('Distribution of prices')\n",
    "plt.show()"
   ]
  },
  {
   "cell_type": "markdown",
   "metadata": {},
   "source": [
    "From the plot, most of the price of houses and apartments are less than 500. Prices around 100 are the most common. In general, the number of houses and apartments available decreases as the price increases."
   ]
  },
  {
   "cell_type": "code",
   "execution_count": null,
   "metadata": {},
   "outputs": [],
   "source": [
    "ab.select_dtypes(exclude=['object']).isna().sum()"
   ]
  },
  {
   "cell_type": "markdown",
   "metadata": {},
   "source": [
    "Only review_per_month has missing values, so we only need to fill out the missing review_per_month values."
   ]
  },
  {
   "cell_type": "code",
   "execution_count": null,
   "metadata": {},
   "outputs": [],
   "source": [
    "reviews_per_month_data = ab[ab.reviews_per_month.notna()].loc[:, ['id', 'reviews_per_month']]\n",
    "\n",
    "plt.figure(figsize=(6, 4))\n",
    "plt.hist(reviews_per_month_data.reviews_per_month, bins=50, ec='black')\n",
    "plt.xlabel('Reviews per month')\n",
    "plt.ylabel('Quantity')\n",
    "plt.title('Distribution of reviews per month')\n",
    "plt.show()"
   ]
  },
  {
   "cell_type": "code",
   "execution_count": null,
   "metadata": {},
   "outputs": [],
   "source": [
    "ab['reviews_per_month'].min()"
   ]
  },
  {
   "cell_type": "markdown",
   "metadata": {},
   "source": [
    "From the hist plot of review_per_month and the min value of it, we can infer that the missing value should be 0. There should be no reviews if the review_per_month equals 0."
   ]
  },
  {
   "cell_type": "code",
   "execution_count": null,
   "metadata": {},
   "outputs": [],
   "source": [
    "#replace missing with mode\n",
    "ab['reviews_per_month'].fillna(0, inplace=True)"
   ]
  },
  {
   "cell_type": "markdown",
   "metadata": {},
   "source": [
    "The updated graph:"
   ]
  },
  {
   "cell_type": "code",
   "execution_count": null,
   "metadata": {},
   "outputs": [],
   "source": [
    "ab['reviews_per_month'].plot(kind='box')\n",
    "plt.title('Box Plot for updated reviews per month')\n",
    "plt.ylabel('Quantity')\n",
    "plt.show()"
   ]
  },
  {
   "cell_type": "code",
   "execution_count": null,
   "metadata": {},
   "outputs": [],
   "source": [
    "ab.select_dtypes(include=['object']).head()"
   ]
  },
  {
   "cell_type": "code",
   "execution_count": null,
   "metadata": {},
   "outputs": [],
   "source": [
    "ab['neighbourhood_group'].value_counts().plot(kind='bar', edgecolor='black')\n",
    "plt.title('Neighbourhood Group Counts')\n",
    "plt.xlabel('Neighbourhood Group')\n",
    "plt.ylabel('Count')\n",
    "plt.show()"
   ]
  },
  {
   "cell_type": "code",
   "execution_count": null,
   "metadata": {},
   "outputs": [],
   "source": [
    "# box plot of price by neighbourhood_group\n",
    "plt.figure(figsize=(8, 6))\n",
    "sns.boxplot(x='neighbourhood_group', y='price', data=ab[ab.price < 2000])\n",
    "plt.xlabel('Neighbourhood group')\n",
    "plt.ylabel('Price')\n",
    "plt.title('Price by neighbourhood group')\n",
    "plt.show()"
   ]
  },
  {
   "cell_type": "markdown",
   "metadata": {},
   "source": [
    "From the box plot of prices across difference neighbourhood groups, we can see the house prices in Manhattan is higher than the other neighbourhood groups, which means neighbourhood, or to say areas, cast an influence of the house price.\n",
    "Also looking from the value count plot of houses or apartments in different neighbourhood groups, houses in Manhattan seems the most popular."
   ]
  },
  {
   "cell_type": "code",
   "execution_count": null,
   "metadata": {},
   "outputs": [],
   "source": [
    "ab['neighbourhood'].nunique()"
   ]
  },
  {
   "cell_type": "code",
   "execution_count": null,
   "metadata": {},
   "outputs": [],
   "source": [
    "ab['neighbourhood'].value_counts().head(10)"
   ]
  },
  {
   "cell_type": "code",
   "execution_count": null,
   "metadata": {},
   "outputs": [],
   "source": [
    "plt.figure(figsize=(6, 4))\n",
    "ab['room_type'].value_counts().plot(kind='bar', edgecolor='black')\n",
    "plt.title('Room Type Counts')\n",
    "plt.xlabel('Room Type')\n",
    "plt.ylabel('Count')\n",
    "plt.show()"
   ]
  },
  {
   "cell_type": "code",
   "execution_count": null,
   "metadata": {},
   "outputs": [],
   "source": [
    "ab['last_review']=pd.to_datetime(ab['last_review'])\n",
    "ab['last_review'].dt.year.value_counts().sort_index().plot(kind='bar', edgecolor='black')\n",
    "plt.title('Last Review Year Counts')\n",
    "plt.xlabel('Last Review Year')\n",
    "plt.ylabel('Count')\n",
    "plt.show()"
   ]
  },
  {
   "cell_type": "code",
   "execution_count": null,
   "metadata": {},
   "outputs": [],
   "source": [
    "ab['last_review'].dt.month.value_counts().sort_index().plot(kind='bar', edgecolor='black')\n",
    "plt.title('Last Review Month Counts')\n",
    "plt.xlabel('Last Review Month')\n",
    "plt.ylabel('Count')\n",
    "plt.show()"
   ]
  },
  {
   "cell_type": "code",
   "execution_count": null,
   "metadata": {},
   "outputs": [],
   "source": [
    "# last and first review\n",
    "ab['last_review'].max(), ab['last_review'].min()"
   ]
  },
  {
   "cell_type": "code",
   "execution_count": null,
   "metadata": {},
   "outputs": [],
   "source": [
    "ab['last_review'].value_counts().head(10)"
   ]
  },
  {
   "cell_type": "code",
   "execution_count": null,
   "metadata": {},
   "outputs": [],
   "source": [
    "ab.select_dtypes(exclude=['number']).isna().sum()"
   ]
  },
  {
   "cell_type": "markdown",
   "metadata": {},
   "source": [
    "Missing names are not meaningful to fill. Only missing last_review can be filled. The missing value is corresponding to the missing value of review_per_month. So we should keep the missing values as null because it has the meaning of having no review."
   ]
  },
  {
   "cell_type": "code",
   "execution_count": null,
   "metadata": {},
   "outputs": [],
   "source": [
    "ab[ab['last_review'].isna()][['number_of_reviews', 'last_review', 'reviews_per_month']].sample(5)"
   ]
  },
  {
   "cell_type": "code",
   "execution_count": null,
   "metadata": {},
   "outputs": [],
   "source": [
    "ab[ab['last_review'].isna()][['number_of_reviews', 'last_review', 'reviews_per_month']].nunique()"
   ]
  },
  {
   "cell_type": "markdown",
   "metadata": {},
   "source": [
    "It turns out that missing values of review related data are all because reviews do not exit."
   ]
  },
  {
   "cell_type": "markdown",
   "metadata": {},
   "source": [
    "2. Secondary dataset description\n",
    "\n",
    "This dataset encompasses user feedback on Airbnb listings in New York City, offering\n",
    "valuable insights into the firsthand experiences of staying in these accommodations. By\n",
    "perusing these reviews, one can gain an understanding of the strengths, weaknesses, and\n",
    "the ideal demographic for each listing. It contains the time that the reviews were posted and\n",
    "the content of the reviews."
   ]
  },
  {
   "cell_type": "code",
   "execution_count": null,
   "metadata": {},
   "outputs": [],
   "source": [
    "reviews=pd.read_csv('data/AB_reviews_NYC.csv')"
   ]
  },
  {
   "cell_type": "code",
   "execution_count": null,
   "metadata": {},
   "outputs": [],
   "source": [
    "reviews.head()"
   ]
  },
  {
   "cell_type": "code",
   "execution_count": null,
   "metadata": {},
   "outputs": [],
   "source": [
    "reviews.shape"
   ]
  },
  {
   "cell_type": "code",
   "execution_count": null,
   "metadata": {},
   "outputs": [],
   "source": [
    "reviews.isna().sum()"
   ]
  },
  {
   "cell_type": "markdown",
   "metadata": {},
   "source": [
    "There's no missing values"
   ]
  },
  {
   "cell_type": "code",
   "execution_count": null,
   "metadata": {},
   "outputs": [],
   "source": [
    "reviews['listing_id'].nunique()"
   ]
  },
  {
   "cell_type": "code",
   "execution_count": null,
   "metadata": {},
   "outputs": [],
   "source": [
    "reviews['url'].nunique()"
   ]
  },
  {
   "cell_type": "markdown",
   "metadata": {},
   "source": [
    "url and listing_id number is corresponded. url is not needed for data analysis."
   ]
  },
  {
   "cell_type": "code",
   "execution_count": null,
   "metadata": {},
   "outputs": [],
   "source": [
    "reviews.drop(columns=['url'], inplace=True)"
   ]
  },
  {
   "cell_type": "code",
   "execution_count": null,
   "metadata": {},
   "outputs": [],
   "source": [
    "#revert review_posted_date into datatime\n",
    "reviews['review_posted_date']=pd.to_datetime(reviews['review_posted_date'])\n",
    "#plot review_posted_date\n",
    "reviews['review_posted_date'].dt.year.value_counts().sort_index().plot(kind='bar', edgecolor='black')\n",
    "plt.title('Review Posted Year Counts')\n",
    "plt.xlabel('Review Posted Year')\n",
    "plt.ylabel('Count')\n",
    "plt.show()"
   ]
  },
  {
   "cell_type": "code",
   "execution_count": null,
   "metadata": {},
   "outputs": [],
   "source": [
    "reviews['review_posted_date'].dt.month.value_counts().sort_index().plot(kind='bar', edgecolor='black')\n",
    "plt.title('Review Posted Month Counts')\n",
    "plt.xlabel('Review Posted Month')\n",
    "plt.ylabel('Count')\n",
    "plt.show()"
   ]
  },
  {
   "cell_type": "code",
   "execution_count": null,
   "metadata": {},
   "outputs": [],
   "source": [
    "#plot histgram of review length\n",
    "reviews['review'].str.len().plot(kind='hist', bins=50, edgecolor='black')"
   ]
  },
  {
   "cell_type": "markdown",
   "metadata": {},
   "source": [
    "Most of the reviews are short."
   ]
  },
  {
   "cell_type": "markdown",
   "metadata": {},
   "source": [
    "### Visualization of features correlations"
   ]
  },
  {
   "cell_type": "markdown",
   "metadata": {},
   "source": [
    "1. Heatmap of Correlations of the Primary dataset"
   ]
  },
  {
   "cell_type": "code",
   "execution_count": null,
   "metadata": {},
   "outputs": [],
   "source": [
    "sns.heatmap(ab.select_dtypes(exclude=['object']).drop(['id', 'host_id'], axis=1)\n",
    "            .corr(), cmap='coolwarm', center=0, annot=True)\n",
    "plt.title('Heatmap of Correlation of numerical variables')\n",
    "plt.show()"
   ]
  },
  {
   "cell_type": "markdown",
   "metadata": {},
   "source": [
    "The positive relation of review related data is of no doubt. Longitude also affect price and host listing negatively and review_per_month positively, which is a geographic influence. Mininum night and review per month has logical negative influence. availability_365 has positive affect on review numbers. host listing number  has negative effect on review numebrs. More host_listing and more availability of year is related."
   ]
  },
  {
   "cell_type": "markdown",
   "metadata": {},
   "source": [
    "### Heatmap of Geometric Distribution of Number of Rooms"
   ]
  },
  {
   "cell_type": "code",
   "execution_count": null,
   "metadata": {},
   "outputs": [],
   "source": [
    "m = folium.Map(location=[ab['latitude'].mean(), ab['longitude'].mean()], zoom_start=12)\n",
    "HeatMap(data=ab[['latitude', 'longitude']], radius=15).add_to(m)\n",
    "m"
   ]
  },
  {
   "cell_type": "markdown",
   "metadata": {},
   "source": [
    "In the map generated, red and orange areas represent areas with more houses or apartment for reservation."
   ]
  },
  {
   "cell_type": "markdown",
   "metadata": {},
   "source": [
    "### Joining Datasets\n"
   ]
  },
  {
   "cell_type": "code",
   "execution_count": null,
   "metadata": {},
   "outputs": [],
   "source": [
    "airbnb = pd.merge(ab, reviews, left_on='id', right_on='listing_id', how='inner')\n",
    "airbnb.head()"
   ]
  },
  {
   "cell_type": "markdown",
   "metadata": {},
   "source": [
    "### Machine Learning (Predict Price)"
   ]
  },
  {
   "cell_type": "markdown",
   "metadata": {},
   "source": [
    "In this part, two regression models are applied to predict the price of a room taking in the features of the first dataset."
   ]
  },
  {
   "cell_type": "code",
   "execution_count": null,
   "metadata": {},
   "outputs": [],
   "source": [
    "from sklearn.model_selection import train_test_split\n",
    "from sklearn.linear_model import LinearRegression\n",
    "from sklearn.metrics import mean_squared_error, mean_absolute_error, r2_score\n",
    "from sklearn.preprocessing import LabelEncoder\n",
    "from sklearn.ensemble import RandomForestRegressor"
   ]
  },
  {
   "cell_type": "code",
   "execution_count": null,
   "metadata": {},
   "outputs": [],
   "source": [
    "le = LabelEncoder()\n",
    "airbnb['neighbourhood_group'] = le.fit_transform(airbnb['neighbourhood_group'])\n",
    "airbnb['neighbourhood'] = le.fit_transform(airbnb['neighbourhood'])\n",
    "airbnb['room_type'] = le.fit_transform(airbnb['room_type'])\n",
    "\n",
    "X = airbnb[['neighbourhood_group', 'neighbourhood', 'latitude', 'longitude', 'room_type', 'minimum_nights',\n",
    "            'number_of_reviews', 'reviews_per_month', 'calculated_host_listings_count', 'availability_365']]\n",
    "y = airbnb['price']\n",
    "\n",
    "X_train, X_test, y_train, y_test = train_test_split(\n",
    "    X, y, test_size=0.2, random_state=42)"
   ]
  },
  {
   "cell_type": "markdown",
   "metadata": {},
   "source": [
    "#### 1. Linear Regression Model"
   ]
  },
  {
   "cell_type": "code",
   "execution_count": null,
   "metadata": {},
   "outputs": [],
   "source": [
    "LinearRegre = LinearRegression()\n",
    "\n",
    "LinearRegre.fit(X_train, y_train)\n",
    "\n",
    "y_pred = LinearRegre.predict(X_test)\n",
    "\n",
    "mae = mean_absolute_error(y_test, y_pred)\n",
    "print(f'Mean Absolute Error: {mae}')\n",
    "\n",
    "mse = mean_squared_error(y_test, y_pred)\n",
    "print(f'Mean Squared Error: {mse}')\n",
    "\n",
    "r2 = r2_score(y_test, y_pred)\n",
    "print(f'R-squared (R2): {r2}')\n",
    "\n",
    "reletive_error = mae/airbnb.price.mean()\n",
    "print(f'reletive error: {reletive_error}')"
   ]
  },
  {
   "cell_type": "markdown",
   "metadata": {},
   "source": [
    "#### 2. Random Forest Model"
   ]
  },
  {
   "cell_type": "code",
   "execution_count": null,
   "metadata": {},
   "outputs": [],
   "source": [
    "rf_model = RandomForestRegressor(n_estimators=100, random_state=42)\n",
    "\n",
    "rf_model.fit(X_train, y_train)\n",
    "\n",
    "y_pred_rf = rf_model.predict(X_test)\n",
    "\n",
    "mae = mean_absolute_error(y_test, y_pred_rf)\n",
    "print(f'Mean Absolute Error: {mae}')\n",
    "\n",
    "mse = mean_squared_error(y_test, y_pred_rf)\n",
    "print(f'Mean Squared Error: {mse}')\n",
    "\n",
    "r2 = r2_score(y_test, y_pred_rf)\n",
    "print(f'R-squared (R2): {r2}')\n",
    "\n",
    "reletive_error = mae/airbnb.price.mean()\n",
    "print(f'reletive error: {reletive_error}')"
   ]
  },
  {
   "cell_type": "markdown",
   "metadata": {},
   "source": [
    "From the R-squared value, random forest regressor performs better than the linear model, as the R-squared value of random forest regressor is nearly 1."
   ]
  },
  {
   "cell_type": "markdown",
   "metadata": {},
   "source": [
    "### Natural Language Processing"
   ]
  },
  {
   "cell_type": "markdown",
   "metadata": {},
   "source": [
    "Eavaluate the reviewers' satisfacotry levels based on the sentiment of their reviews"
   ]
  },
  {
   "cell_type": "code",
   "execution_count": null,
   "metadata": {},
   "outputs": [],
   "source": [
    "!pip install textblob"
   ]
  },
  {
   "cell_type": "code",
   "execution_count": null,
   "metadata": {},
   "outputs": [],
   "source": [
    "import nltk\n",
    "nltk.download('stopwords')\n",
    "nltk.download('wordnet')"
   ]
  },
  {
   "cell_type": "code",
   "execution_count": null,
   "metadata": {},
   "outputs": [],
   "source": [
    "from textblob import TextBlob\n",
    "from nltk.corpus import stopwords\n",
    "from nltk.stem import WordNetLemmatizer"
   ]
  },
  {
   "cell_type": "code",
   "execution_count": null,
   "metadata": {},
   "outputs": [],
   "source": [
    "reviews = airbnb['review']\n",
    "\n",
    "def preprocess_text(text):\n",
    "    stop_words = set(stopwords.words('english'))\n",
    "    lemmatizer = WordNetLemmatizer()\n",
    "    tokens = [lemmatizer.lemmatize(word.lower()) for word in text.split() if word.isalpha() and word.lower() not in stop_words]\n",
    "    return ' '.join(tokens)\n",
    "\n",
    "preprocessed_reviews = reviews.apply(preprocess_text)\n",
    "\n",
    "sentiments = preprocessed_reviews.apply(lambda x: TextBlob(x).sentiment.polarity)\n",
    "\n",
    "airbnb['sentiment_score'] = sentiments\n",
    "\n",
    "print(airbnb[['review', 'sentiment_score']])"
   ]
  },
  {
   "cell_type": "markdown",
   "metadata": {},
   "source": [
    "Getting the sentiment scores, we want to know if the price and sentiment has some relation."
   ]
  },
  {
   "cell_type": "code",
   "execution_count": null,
   "metadata": {},
   "outputs": [],
   "source": [
    "# linear regression of sentiment score and price\n",
    "X = airbnb[['sentiment_score']]\n",
    "y = airbnb['price']\n",
    "\n",
    "X_train, X_test, y_train, y_test = train_test_split(\n",
    "    X, y, test_size=0.2, random_state=42)\n",
    "\n",
    "LinearRegre = LinearRegression()\n",
    "\n",
    "LinearRegre.fit(X_train, y_train)\n",
    "\n",
    "y_pred = LinearRegre.predict(X_test)\n",
    "\n",
    "mae = mean_absolute_error(y_test, y_pred)\n",
    "print(f'Mean Absolute Error: {mae}')\n",
    "\n",
    "mse = mean_squared_error(y_test, y_pred)\n",
    "print(f'Mean Squared Error: {mse}')\n",
    "\n",
    "r2 = r2_score(y_test, y_pred)\n",
    "print(f'R-squared (R2): {r2}')\n",
    "\n",
    "reletive_error = mae/airbnb.price.mean()\n",
    "print(f'reletive error: {reletive_error}')"
   ]
  },
  {
   "cell_type": "code",
   "execution_count": null,
   "metadata": {},
   "outputs": [],
   "source": [
    "# regression plot of sentiment score by price\n",
    "plt.figure(figsize=(8, 6))\n",
    "sns.regplot(x='sentiment_score', y='price', data=airbnb)\n",
    "plt.xlabel('Sentiment Score')\n",
    "plt.ylabel('Price')\n",
    "plt.title('Sentiment Score by Price')\n",
    "plt.show()"
   ]
  },
  {
   "cell_type": "markdown",
   "metadata": {},
   "source": [
    "From the linear regression plot, there seems to be a relation between price and sentiment score, but not obvious."
   ]
  },
  {
   "cell_type": "markdown",
   "metadata": {},
   "source": [
    "We can segment sentiment scores into 4 groups and look at if different groups have different price distribution. \n",
    "* -1.00 to -0.50: very unsatisfied\n",
    "* -0.50 to 0.00: slightly unsatisfied\n",
    "* 0.00 to 0.50: slightly satisfied\n",
    "* 0.50 to 1.00: very satisfied"
   ]
  },
  {
   "cell_type": "code",
   "execution_count": null,
   "metadata": {},
   "outputs": [],
   "source": [
    "# segment sentiment score into 4 groups\n",
    "airbnb['sentiment_score_group'] = \\\n",
    "    pd.cut(airbnb['sentiment_score'], bins=4, \n",
    "                labels=['very unsatisfied', 'slightly unsatisfied',\n",
    "                         'slightly satisfied', 'very satisfied'])\n",
    "airbnb['sentiment_score_group'].value_counts()"
   ]
  },
  {
   "cell_type": "code",
   "execution_count": null,
   "metadata": {},
   "outputs": [],
   "source": [
    "# box plot of price by sentiment score group\n",
    "plt.figure(figsize=(8, 6))\n",
    "sns.boxplot(x='sentiment_score_group', y='price', data=airbnb[airbnb.price < 2000])\n",
    "plt.xlabel('Sentiment Score Group')\n",
    "plt.ylabel('Price')\n",
    "plt.title('Price by Sentiment Score Group')\n",
    "plt.show()"
   ]
  },
  {
   "cell_type": "code",
   "execution_count": null,
   "metadata": {},
   "outputs": [],
   "source": [
    "# anova test\n",
    "import statsmodels\n",
    "import statsmodels.api as sm\n",
    "from statsmodels.formula.api import ols\n",
    "\n",
    "formula = 'price ~ C(sentiment_score_group)'\n",
    "lm = ols(formula, airbnb).fit()\n",
    "table = sm.stats.anova_lm(lm, typ=2)\n",
    "print(table)"
   ]
  },
  {
   "cell_type": "markdown",
   "metadata": {},
   "source": [
    "From the result of the ANOVA test, there exist differences of prices across different sentiment scores. This means there is a relation between price and sentiment scores. More expensive rooms tend to have more good reviews. Cheaper ones have more bad reviews."
   ]
  },
  {
   "cell_type": "markdown",
   "metadata": {},
   "source": [
    "#### Price Trend over Time"
   ]
  },
  {
   "cell_type": "code",
   "execution_count": null,
   "metadata": {},
   "outputs": [],
   "source": [
    "# sentiment score over time\n",
    "year_sentiment = airbnb.groupby(airbnb['review_posted_date'].dt.year)['sentiment_score'].mean()\n",
    "year_sentiment"
   ]
  },
  {
   "cell_type": "code",
   "execution_count": null,
   "metadata": {},
   "outputs": [],
   "source": [
    "# plot sentiment score over time\n",
    "plt.figure(figsize=(8, 4))\n",
    "year_sentiment.plot(kind='bar', edgecolor='black')\n",
    "plt.xlabel('Year')\n",
    "plt.ylabel('Sentiment Score')\n",
    "plt.title('Sentiment Score by Year')\n",
    "plt.show()"
   ]
  },
  {
   "cell_type": "markdown",
   "metadata": {},
   "source": [
    "We also want to look at the sentiment score over time. To simplify the analysis, we use the mean value of sentiment score over one year, which can reveal the satisfactory level. From the plot above, we can see the satisfactory level first decreased from 2011 to 2015, then started to increase in general. with a slight decrease in 2019."
   ]
  },
  {
   "cell_type": "markdown",
   "metadata": {},
   "source": [
    "### Evaluation\n",
    "Evaluate the relationship between the relative price and satisfactory\n",
    "(Relative price = Actual Price - Predicted Price (Expected Price))."
   ]
  },
  {
   "cell_type": "code",
   "execution_count": null,
   "metadata": {},
   "outputs": [],
   "source": [
    "price_differences_lr = y_pred - y_test\n",
    "price_differences_lr.value_counts()"
   ]
  },
  {
   "cell_type": "code",
   "execution_count": null,
   "metadata": {},
   "outputs": [],
   "source": [
    "price_differences_rf = y_pred_rf - y_test\n",
    "price_differences_rf.value_counts()"
   ]
  },
  {
   "cell_type": "code",
   "execution_count": null,
   "metadata": {},
   "outputs": [],
   "source": [
    "test_indices = X_test.index\n",
    "test_set = airbnb.loc[test_indices]\n",
    "test_set['price_differences_rf'] = price_differences_rf\n",
    "test_set['price_differences_lr'] = price_differences_lr\n",
    "test_set = test_set[abs(test_set.price_differences_rf) < 50]\n",
    "test_set"
   ]
  },
  {
   "cell_type": "code",
   "execution_count": null,
   "metadata": {},
   "outputs": [],
   "source": [
    "plt.scatter(test_set['sentiment_score'], test_set['price_differences_lr'])\n",
    "plt.title('Relationship between Sentiment Score and Price Difference (Test Set)')\n",
    "plt.xlabel('Sentiment Score')\n",
    "plt.ylabel('Price Difference (Predicted - Actual)')\n",
    "plt.show()"
   ]
  },
  {
   "cell_type": "code",
   "execution_count": null,
   "metadata": {},
   "outputs": [],
   "source": [
    "plt.scatter(test_set['sentiment_score'], test_set['price_differences_rf'])\n",
    "plt.title('Relationship between Sentiment Score and Price Difference (Test Set)')\n",
    "plt.xlabel('Sentiment Score')\n",
    "plt.ylabel('Price Difference (Predicted - Actual)')\n",
    "plt.show()"
   ]
  },
  {
   "cell_type": "code",
   "execution_count": null,
   "metadata": {},
   "outputs": [],
   "source": [
    "correlation = test_set['price_differences_lr'].corr(test_set['sentiment_score'])\n",
    "correlation "
   ]
  },
  {
   "cell_type": "markdown",
   "metadata": {},
   "source": [
    "It is found that the price_differences do not have strong correlation with the satisfactory levels of reviewers.\n",
    "\n",
    "Thus, whether the price is lower or higher than expection will not be a major factor affecting reviewers' satisfactory.\n",
    "\n",
    "Therefore, we are curious what factors do affect reviewers' satisfactory levels a lot."
   ]
  },
  {
   "cell_type": "markdown",
   "metadata": {},
   "source": [
    "### Machine Learning (Predict Users' Satisfactory Levels)"
   ]
  },
  {
   "cell_type": "code",
   "execution_count": null,
   "metadata": {},
   "outputs": [],
   "source": [
    "le = LabelEncoder()\n",
    "airbnb['neighbourhood_group'] = le.fit_transform(airbnb['neighbourhood_group'])\n",
    "airbnb['neighbourhood'] = le.fit_transform(airbnb['neighbourhood'])\n",
    "airbnb['room_type'] = le.fit_transform(airbnb['room_type'])\n",
    "\n",
    "X = airbnb[['neighbourhood_group', 'neighbourhood', 'latitude', 'longitude', 'room_type', 'minimum_nights',\n",
    "            'number_of_reviews', 'reviews_per_month', 'calculated_host_listings_count', 'availability_365', 'price']]\n",
    "y = airbnb['sentiment_score']\n",
    "\n",
    "X_train, X_test, y_train, y_test = train_test_split(\n",
    "    X, y, test_size=0.2, random_state=42)"
   ]
  },
  {
   "cell_type": "code",
   "execution_count": null,
   "metadata": {},
   "outputs": [],
   "source": [
    "LinearRegre = LinearRegression()\n",
    "\n",
    "LinearRegre.fit(X_train, y_train)\n",
    "\n",
    "y_pred = LinearRegre.predict(X_test)\n",
    "\n",
    "mae = mean_absolute_error(y_test, y_pred)\n",
    "print(f'Mean Absolute Error: {mae}')\n",
    "\n",
    "mse = mean_squared_error(y_test, y_pred)\n",
    "print(f'Mean Squared Error: {mse}')\n",
    "\n",
    "r2 = r2_score(y_test, y_pred)\n",
    "print(f'R-squared (R2): {r2}')\n",
    "\n",
    "reletive_error = mae/(airbnb.sentiment_score.max() - airbnb.sentiment_score.min())\n",
    "print(f'reletive error: {reletive_error}')"
   ]
  },
  {
   "cell_type": "code",
   "execution_count": null,
   "metadata": {},
   "outputs": [],
   "source": [
    "coefficients_lr = LinearRegre.coef_\n",
    "feature_names = ['neighbourhood_group', 'neighbourhood', 'latitude', 'longitude', 'room_type', 'minimum_nights',\n",
    "            'number_of_reviews', 'reviews_per_month', 'calculated_host_listings_count', 'availability_365', 'price']\n",
    "feature_correlation_lr = pd.DataFrame({'Feature_names': feature_names, 'Coefficients': coefficients_lr})\n",
    "feature_correlation_lr"
   ]
  },
  {
   "cell_type": "code",
   "execution_count": null,
   "metadata": {},
   "outputs": [],
   "source": [
    "feature_correlation_lr_sorted = \\\n",
    "    feature_correlation_lr \\\n",
    "        .sort_values(by='Coefficients', ascending=False)\n",
    "\n",
    "#plot the coefficients\n",
    "plt.figure(figsize=(8, 4))\n",
    "plt.bar(feature_correlation_lr_sorted['Feature_names'], \n",
    "        feature_correlation_lr_sorted['Coefficients'])\n",
    "plt.xticks(rotation=90)\n",
    "plt.xlabel('Features')\n",
    "plt.ylabel('Coefficients')\n",
    "plt.title('Coefficients of Features')\n",
    "plt.show()"
   ]
  },
  {
   "cell_type": "markdown",
   "metadata": {},
   "source": [
    "From the results, we can see that neighbourhood, minimum nights, numberof reviews, availability_365 and price do not affect the satisfactory level much.\n",
    "\n",
    "However, the location of the room and the reviews_per_month strongly affect the satisfactory levels of reviewers."
   ]
  },
  {
   "cell_type": "code",
   "execution_count": null,
   "metadata": {},
   "outputs": [],
   "source": [
    "rf_model = RandomForestRegressor(n_estimators=100, random_state=42)\n",
    "\n",
    "rf_model.fit(X_train, y_train)\n",
    "\n",
    "y_pred_rf = rf_model.predict(X_test)\n",
    "\n",
    "mae = mean_absolute_error(y_test, y_pred_rf)\n",
    "print(f'Mean Absolute Error: {mae}')\n",
    "\n",
    "mse = mean_squared_error(y_test, y_pred_rf)\n",
    "print(f'Mean Squared Error: {mse}')\n",
    "\n",
    "r2 = r2_score(y_test, y_pred_rf)\n",
    "print(f'R-squared (R2): {r2}')\n",
    "\n",
    "reletive_error = mae/(airbnb.sentiment_score.max() - airbnb.sentiment_score.min())\n",
    "print(f'reletive error: {reletive_error}')"
   ]
  },
  {
   "cell_type": "markdown",
   "metadata": {},
   "source": [
    "From the learning score, we can see that R-squared is not very high and the reletive error is not low enough.\n",
    "\n",
    "Thus, the satisfactory level is not easy to predict and many factors other than the solid data may affect it."
   ]
  },
  {
   "cell_type": "code",
   "execution_count": null,
   "metadata": {},
   "outputs": [],
   "source": [
    "feature_importances = rf_model.feature_importances_\n",
    "feature_importances "
   ]
  },
  {
   "cell_type": "code",
   "execution_count": null,
   "metadata": {},
   "outputs": [],
   "source": [
    "feature_correlation_rf = pd.DataFrame({'Feature_names': feature_names, 'Coefficients': feature_importances})\n",
    "feature_correlation_rf"
   ]
  },
  {
   "cell_type": "code",
   "execution_count": null,
   "metadata": {},
   "outputs": [],
   "source": [
    "feature_correlation_rf_sorted = feature_correlation_rf.sort_values(by='Coefficients', ascending=False)\n",
    "\n",
    "#plot the coefficients\n",
    "plt.figure(figsize=(8, 4))\n",
    "plt.bar(feature_correlation_rf_sorted['Feature_names'], \n",
    "        feature_correlation_rf_sorted['Coefficients'])\n",
    "plt.xticks(rotation=90)\n",
    "plt.xlabel('Features')\n",
    "plt.ylabel('Coefficients Importance')\n",
    "plt.title('Coefficients of Features')\n",
    "plt.show()"
   ]
  },
  {
   "cell_type": "markdown",
   "metadata": {},
   "source": [
    "From the results, we can see that neighbourhood_group, room_type, calulated host listings count do not affect the satisfactory level much.\n",
    "\n",
    "However, the location of the room and the reviews_per_month still strongly affect the satisfactory levels of reviewers."
   ]
  }
 ],
 "metadata": {
  "kernelspec": {
   "display_name": "base",
   "language": "python",
   "name": "python3"
  },
  "language_info": {
   "codemirror_mode": {
    "name": "ipython",
    "version": 3
   },
   "file_extension": ".py",
   "mimetype": "text/x-python",
   "name": "python",
   "nbconvert_exporter": "python",
   "pygments_lexer": "ipython3",
   "version": "3.11.5"
  },
  "orig_nbformat": 4
 },
 "nbformat": 4,
 "nbformat_minor": 2
}
